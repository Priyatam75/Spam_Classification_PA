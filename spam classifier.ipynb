{
 "cells": [
  {
   "cell_type": "code",
   "execution_count": 3,
   "metadata": {},
   "outputs": [],
   "source": [
    "import pandas as pd\n",
    "df=pd.read_csv(\"sms_spam.csv\")"
   ]
  },
  {
   "cell_type": "code",
   "execution_count": 4,
   "metadata": {},
   "outputs": [
    {
     "data": {
      "text/plain": [
       "0"
      ]
     },
     "execution_count": 4,
     "metadata": {},
     "output_type": "execute_result"
    }
   ],
   "source": [
    "#df.head()\n",
    "len(df[df.type==0])"
   ]
  },
  {
   "cell_type": "code",
   "execution_count": 27,
   "metadata": {},
   "outputs": [],
   "source": [
    "import numpy as np\n",
    "df['type']=np.where(df['type']=='spam',1,0)"
   ]
  },
  {
   "cell_type": "code",
   "execution_count": 28,
   "metadata": {},
   "outputs": [
    {
     "name": "stderr",
     "output_type": "stream",
     "text": [
      "[nltk_data] Downloading package stopwords to\n",
      "[nltk_data]     C:\\Users\\Srinivas\\AppData\\Roaming\\nltk_data...\n",
      "[nltk_data]   Package stopwords is already up-to-date!\n",
      "[nltk_data] Downloading package wordnet to\n",
      "[nltk_data]     C:\\Users\\Srinivas\\AppData\\Roaming\\nltk_data...\n",
      "[nltk_data]   Package wordnet is already up-to-date!\n",
      "[nltk_data] Downloading package punkt to\n",
      "[nltk_data]     C:\\Users\\Srinivas\\AppData\\Roaming\\nltk_data...\n",
      "[nltk_data]   Package punkt is already up-to-date!\n"
     ]
    },
    {
     "data": {
      "text/plain": [
       "True"
      ]
     },
     "execution_count": 28,
     "metadata": {},
     "output_type": "execute_result"
    }
   ],
   "source": [
    "import nltk\n",
    "nltk.download('stopwords')\n",
    "nltk.download('wordnet')\n",
    "nltk.download('punkt')"
   ]
  },
  {
   "cell_type": "code",
   "execution_count": 10,
   "metadata": {},
   "outputs": [],
   "source": [
    "import nltk\n",
    "from nltk.corpus import stopwords\n",
    "from nltk import word_tokenize\n",
    "from nltk.stem import PorterStemmer\n",
    "st=stopwords.words(\"english\")\n",
    "por=PorterStemmer()\n",
    "df['text']=df['text'].apply(lambda x: ' '.join([por.stem(i) for i in word_tokenize(x) if i not in st and i.isalpha() ]  ))"
   ]
  },
  {
   "cell_type": "code",
   "execution_count": 13,
   "metadata": {},
   "outputs": [],
   "source": [
    "import nltk\n",
    "from nltk.corpus import stopwords\n",
    "from nltk import word_tokenize\n",
    "from nltk.stem import WordNetLemmatizer\n",
    "st=stopwords.words(\"english\")\n",
    "lemm=WordNetLemmatizer()\n",
    "df['text']=df['text'].apply(lambda x: ' '.join([lemm.lemmatize(i) for i in word_tokenize(x) if i not in st and i.isalpha() ]  ))"
   ]
  },
  {
   "cell_type": "code",
   "execution_count": 14,
   "metadata": {},
   "outputs": [
    {
     "data": {
      "text/html": [
       "<div>\n",
       "<style scoped>\n",
       "    .dataframe tbody tr th:only-of-type {\n",
       "        vertical-align: middle;\n",
       "    }\n",
       "\n",
       "    .dataframe tbody tr th {\n",
       "        vertical-align: top;\n",
       "    }\n",
       "\n",
       "    .dataframe thead th {\n",
       "        text-align: right;\n",
       "    }\n",
       "</style>\n",
       "<table border=\"1\" class=\"dataframe\">\n",
       "  <thead>\n",
       "    <tr style=\"text-align: right;\">\n",
       "      <th></th>\n",
       "      <th>type</th>\n",
       "      <th>text</th>\n",
       "    </tr>\n",
       "  </thead>\n",
       "  <tbody>\n",
       "    <tr>\n",
       "      <th>0</th>\n",
       "      <td>0</td>\n",
       "      <td>Go jurong point avail bugi n great world la e ...</td>\n",
       "    </tr>\n",
       "    <tr>\n",
       "      <th>1</th>\n",
       "      <td>0</td>\n",
       "      <td>Ok lar joke wif u oni</td>\n",
       "    </tr>\n",
       "    <tr>\n",
       "      <th>2</th>\n",
       "      <td>1</td>\n",
       "      <td>free entri wkli comp win FA cup final tkt may ...</td>\n",
       "    </tr>\n",
       "    <tr>\n",
       "      <th>3</th>\n",
       "      <td>0</td>\n",
       "      <td>U dun say earli hor U c alreadi say</td>\n",
       "    </tr>\n",
       "    <tr>\n",
       "      <th>4</th>\n",
       "      <td>0</td>\n",
       "      <td>nah I think goe usf live around though</td>\n",
       "    </tr>\n",
       "  </tbody>\n",
       "</table>\n",
       "</div>"
      ],
      "text/plain": [
       "   type                                               text\n",
       "0     0  Go jurong point avail bugi n great world la e ...\n",
       "1     0                              Ok lar joke wif u oni\n",
       "2     1  free entri wkli comp win FA cup final tkt may ...\n",
       "3     0                U dun say earli hor U c alreadi say\n",
       "4     0             nah I think goe usf live around though"
      ]
     },
     "execution_count": 14,
     "metadata": {},
     "output_type": "execute_result"
    }
   ],
   "source": [
    "df.head()"
   ]
  },
  {
   "cell_type": "code",
   "execution_count": 15,
   "metadata": {},
   "outputs": [],
   "source": [
    "Y=df['type']\n",
    "X=df['text']"
   ]
  },
  {
   "cell_type": "code",
   "execution_count": 16,
   "metadata": {},
   "outputs": [],
   "source": [
    "from sklearn.model_selection import train_test_split\n",
    "X_train,X_test,Y_train,Y_test=train_test_split(X,Y,random_state=0,test_size=0.2)"
   ]
  },
  {
   "cell_type": "code",
   "execution_count": 18,
   "metadata": {},
   "outputs": [
    {
     "name": "stdout",
     "output_type": "stream",
     "text": [
      "  (0, 1300)\t1\n",
      "  (0, 1323)\t1\n",
      "  (0, 1325)\t1\n",
      "  (0, 1697)\t1\n",
      "  (0, 2149)\t1\n",
      "  (0, 2481)\t1\n",
      "  (0, 2518)\t1\n",
      "  (0, 2793)\t1\n",
      "  (0, 4907)\t1\n",
      "  (0, 4920)\t1\n",
      "  (0, 5012)\t1\n",
      "  (2, 1836)\t1\n",
      "  (2, 2079)\t1\n",
      "  (2, 2510)\t1\n",
      "  (2, 2887)\t1\n",
      "  (2, 3028)\t1\n",
      "  (2, 3127)\t1\n",
      "  (3, 1045)\t1\n",
      "  (3, 1820)\t1\n",
      "  (3, 2306)\t1\n",
      "  (3, 3028)\t1\n",
      "  (3, 4438)\t1\n",
      "  (3, 4707)\t1\n",
      "  (3, 4866)\t1\n",
      "  (4, 55)\t1\n",
      "  :\t:\n",
      "  (4456, 46)\t1\n",
      "  (4456, 706)\t1\n",
      "  (4456, 740)\t1\n",
      "  (4456, 1034)\t1\n",
      "  (4456, 1446)\t1\n",
      "  (4456, 4717)\t1\n",
      "  (4456, 4800)\t1\n",
      "  (4456, 5020)\t1\n",
      "  (4456, 5046)\t1\n",
      "  (4457, 1309)\t1\n",
      "  (4457, 1820)\t1\n",
      "  (4457, 2080)\t1\n",
      "  (4457, 2149)\t1\n",
      "  (4457, 2181)\t1\n",
      "  (4457, 2756)\t1\n",
      "  (4457, 2927)\t1\n",
      "  (4457, 3835)\t1\n",
      "  (4457, 4944)\t2\n",
      "  (4458, 1081)\t1\n",
      "  (4458, 1557)\t1\n",
      "  (4458, 1790)\t1\n",
      "  (4458, 2831)\t1\n",
      "  (4458, 3961)\t1\n",
      "  (4458, 4087)\t1\n",
      "  (4458, 4602)\t1\n"
     ]
    },
    {
     "data": {
      "text/plain": [
       "0.9739910313901345"
      ]
     },
     "execution_count": 18,
     "metadata": {},
     "output_type": "execute_result"
    }
   ],
   "source": [
    "from sklearn.feature_extraction.text import CountVectorizer\n",
    "cv=CountVectorizer()\n",
    "vec=cv.fit(X_train)\n",
    "X_train_vectorised=vec.transform(X_train)\n",
    "print(X_train_vectorised)\n",
    "from sklearn.naive_bayes import MultinomialNB\n",
    "from sklearn.metrics import *\n",
    "model=MultinomialNB(alpha=0.001)\n",
    "model.fit(X_train_vectorised,Y_train)\n",
    "Y_pred=model.predict(vec.transform(X_test))\n",
    "accuracy_score(Y_test,Y_pred)"
   ]
  },
  {
   "cell_type": "code",
   "execution_count": 10,
   "metadata": {},
   "outputs": [
    {
     "data": {
      "text/plain": [
       "0.9739910313901345"
      ]
     },
     "execution_count": 10,
     "metadata": {},
     "output_type": "execute_result"
    }
   ],
   "source": [
    "from sklearn.feature_extraction.text import TfidfVectorizer\n",
    "tf=TfidfVectorizer()\n",
    "tf1=tf.fit(X_train)\n",
    "X_train_vectorised=tf1.transform(X_train)\n",
    "from sklearn.naive_bayes import MultinomialNB\n",
    "from sklearn.metrics import *\n",
    "model=MultinomialNB(alpha=0.001)\n",
    "model.fit(X_train_vectorised,Y_train)\n",
    "Y_pred=model.predict(tf1.transform(X_test))\n",
    "accuracy_score(Y_test,Y_pred)"
   ]
  },
  {
   "cell_type": "code",
   "execution_count": 24,
   "metadata": {},
   "outputs": [
    {
     "data": {
      "text/plain": [
       "0.9757847533632287"
      ]
     },
     "execution_count": 24,
     "metadata": {},
     "output_type": "execute_result"
    }
   ],
   "source": [
    "from sklearn.linear_model import PassiveAggressiveClassifier\n",
    "\n",
    "pac=PassiveAggressiveClassifier(C=0.05,loss='squared_hinge',max_iter=2000,random_state=1000)\n",
    "pac.fit(X_train_vectorised,Y_train)\n",
    "y_pred=pac.predict(vec.transform(X_test))\n",
    "accuracy_score(y_pred,Y_test)"
   ]
  },
  {
   "cell_type": "code",
   "execution_count": 11,
   "metadata": {},
   "outputs": [
    {
     "data": {
      "text/plain": [
       "0.9271451355661883"
      ]
     },
     "execution_count": 11,
     "metadata": {},
     "output_type": "execute_result"
    }
   ],
   "source": [
    "from sklearn.metrics import roc_auc_score\n",
    "roc_auc_score(Y_test,Y_pred)"
   ]
  },
  {
   "cell_type": "code",
   "execution_count": 12,
   "metadata": {},
   "outputs": [
    {
     "data": {
      "text/plain": [
       "array([[944,   6],\n",
       "       [ 23, 142]], dtype=int64)"
      ]
     },
     "execution_count": 12,
     "metadata": {},
     "output_type": "execute_result"
    }
   ],
   "source": [
    "from sklearn.metrics import confusion_matrix\n",
    "confusion_matrix(Y_test,Y_pred)"
   ]
  },
  {
   "cell_type": "code",
   "execution_count": 13,
   "metadata": {},
   "outputs": [
    {
     "name": "stdout",
     "output_type": "stream",
     "text": [
      "0.9594594594594594\n",
      "0.8606060606060606\n"
     ]
    }
   ],
   "source": [
    "from sklearn.metrics import precision_score\n",
    "print(precision_score(Y_test,Y_pred))\n",
    "print(recall_score(Y_test,Y_pred))"
   ]
  },
  {
   "cell_type": "code",
   "execution_count": null,
   "metadata": {},
   "outputs": [],
   "source": []
  }
 ],
 "metadata": {
  "kernelspec": {
   "display_name": "Python 3",
   "language": "python",
   "name": "python3"
  },
  "language_info": {
   "codemirror_mode": {
    "name": "ipython",
    "version": 3
   },
   "file_extension": ".py",
   "mimetype": "text/x-python",
   "name": "python",
   "nbconvert_exporter": "python",
   "pygments_lexer": "ipython3",
   "version": "3.7.3"
  }
 },
 "nbformat": 4,
 "nbformat_minor": 2
}
